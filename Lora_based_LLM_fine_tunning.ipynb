{
 "cells": [
  {
   "cell_type": "code",
   "execution_count": null,
   "id": "f483b57f",
   "metadata": {},
   "outputs": [],
   "source": [
    "import os\n",
    "!export TORCH_USE_CUDA_DSA=1\n",
    "os.environ[\"CUDA_VISIBLE_DEVICES\"]=\"0,1,2,3\"\n",
    "os.environ['CUDA_LAUNCH_BLOCKING'] = '1'\n",
    "os.environ['TORCH_USE_CUDA_DSA'] = '1'\n",
    "import torch\n",
    "import torch.nn as nn\n",
    "import bitsandbytes as bnb\n",
    "from transformers import AutoTokenizer, AutoConfig, AutoModelForCausalLM\n",
    "\n"
   ]
  },
  {
   "cell_type": "code",
   "execution_count": null,
   "id": "86947f11",
   "metadata": {},
   "outputs": [],
   "source": [
    "model = AutoModelForCausalLM.from_pretrained(\"EleutherAI/gpt-j-6B\", load_in_8bit=False, device_map='auto',)\n",
    "tokenizer = AutoTokenizer.from_pretrained(\"EleutherAI/gpt-j-6B\")"
   ]
  },
  {
   "cell_type": "code",
   "execution_count": null,
   "id": "193f9a76",
   "metadata": {},
   "outputs": [],
   "source": [
    "for param in model.parameters():\n",
    "  param.requires_grad = False  # freeze the model - train adapters later\n",
    "  if param.ndim == 1:\n",
    "    # cast the small parameters (e.g. layernorm) to fp32 for stability\n",
    "    param.data = param.data.to(torch.float32)\n",
    "\n",
    "model.gradient_checkpointing_enable()  # reduce number of stored activations\n",
    "model.enable_input_require_grads()\n",
    "\n",
    "class CastOutputToFloat(nn.Sequential):\n",
    "  def forward(self, x): return super().forward(x).to(torch.float32)\n",
    "model.lm_head = CastOutputToFloat(model.lm_head)"
   ]
  },
  {
   "cell_type": "code",
   "execution_count": 1,
   "id": "66131410",
   "metadata": {},
   "outputs": [
    {
     "ename": "ModuleNotFoundError",
     "evalue": "No module named 'peft'",
     "output_type": "error",
     "traceback": [
      "\u001b[1;31m---------------------------------------------------------------------------\u001b[0m",
      "\u001b[1;31mModuleNotFoundError\u001b[0m                       Traceback (most recent call last)",
      "Cell \u001b[1;32mIn[1], line 1\u001b[0m\n\u001b[1;32m----> 1\u001b[0m \u001b[38;5;28;01mfrom\u001b[39;00m \u001b[38;5;21;01mpeft\u001b[39;00m \u001b[38;5;28;01mimport\u001b[39;00m LoraConfig, get_peft_model \n\u001b[0;32m      3\u001b[0m config \u001b[38;5;241m=\u001b[39m LoraConfig( r\u001b[38;5;241m=\u001b[39m\u001b[38;5;241m16\u001b[39m, \u001b[38;5;66;03m#attention heads\u001b[39;00m\n\u001b[0;32m      4\u001b[0m     lora_alpha\u001b[38;5;241m=\u001b[39m\u001b[38;5;241m32\u001b[39m, \u001b[38;5;66;03m#alpha scaling\u001b[39;00m\n\u001b[0;32m      5\u001b[0m     lora_dropout\u001b[38;5;241m=\u001b[39m\u001b[38;5;241m0.05\u001b[39m, \u001b[38;5;66;03m#dropouts\u001b[39;00m\n\u001b[1;32m   (...)\u001b[0m\n\u001b[0;32m     10\u001b[0m \u001b[38;5;66;03m#[\"q_proj\",\"k_proj\",\"v_proj\",\"down_proj\",\"gate_proj\",\"up_proj\"]# set this for CAUSAL LANGUAGE MODELS (like Bloom, LLaMA) or SEQ TO SEQ (like FLAN, T5)\u001b[39;00m\n\u001b[0;32m     11\u001b[0m )\n\u001b[0;32m     13\u001b[0m model \u001b[38;5;241m=\u001b[39m get_peft_model(model, config)\n",
      "\u001b[1;31mModuleNotFoundError\u001b[0m: No module named 'peft'"
     ]
    }
   ],
   "source": [
    "from peft import LoraConfig, get_peft_model \n",
    "\n",
    "config = LoraConfig( r=16, #attention heads\n",
    "    lora_alpha=32, #alpha scaling\n",
    "    lora_dropout=0.05, #dropouts\n",
    "    bias=\"none\",\n",
    "    task_type=\"CAUSAL_LM\",\n",
    "                    \n",
    "    #TARGET_MODULES = \n",
    "#[\"q_proj\",\"k_proj\",\"v_proj\",\"down_proj\",\"gate_proj\",\"up_proj\"]# set this for CAUSAL LANGUAGE MODELS (like Bloom, LLaMA) or SEQ TO SEQ (like FLAN, T5)\n",
    ")\n",
    "\n",
    "model = get_peft_model(model, config)"
   ]
  },
  {
   "cell_type": "code",
   "execution_count": null,
   "id": "ae24db02",
   "metadata": {},
   "outputs": [],
   "source": [
    "def get_trainable_params(model):\n",
    "    \"\"\"\n",
    "    Prints the number of trainable parameters in the model.\n",
    "    \"\"\"\n",
    "    trainable_params = 0\n",
    "    all_param = 0\n",
    "    for _, param in model.named_parameters():\n",
    "        all_param += param.numel()\n",
    "        if param.requires_grad:\n",
    "            trainable_params += param.numel()\n",
    "    print(\n",
    "        f\"trainable params: {trainable_params} || all params: {all_param} || trainable%: {100 * trainable_params / all_param}\"\n",
    "    )\n",
    "# show trainable params\n",
    "get_trainable_params(model)"
   ]
  },
  {
   "cell_type": "code",
   "execution_count": null,
   "id": "99bd8c5d",
   "metadata": {},
   "outputs": [],
   "source": [
    "import transformers\n",
    "from datasets import load_dataset\n",
    "data = load_dataset(\"csv\", data_files=\"/home/sai_aswath_pathora_in/data/wikisql_total_.csv\")"
   ]
  },
  {
   "cell_type": "code",
   "execution_count": null,
   "id": "e968dad2",
   "metadata": {},
   "outputs": [],
   "source": [
    "data"
   ]
  },
  {
   "cell_type": "code",
   "execution_count": null,
   "id": "cd081274",
   "metadata": {},
   "outputs": [],
   "source": [
    "# def merge_cols(data):\n",
    "#     data[\"prediction\"] = \"user question\\n\"+''.join(data[\"instruction\"]) + \"context \\n\" + data[\"context\"] + \"sql output\\n\"+ data[\"response \"]\n",
    "#     return data\n",
    "\n",
    "# data['train'] = data['train'].map(merge_cols)"
   ]
  },
  {
   "cell_type": "code",
   "execution_count": null,
   "id": "a9f7d38e",
   "metadata": {},
   "outputs": [],
   "source": [
    "#test\n",
    "prompt = \"Below is an instruction that describes a task, paired with an input that provides further context. Write a response that appropriately completes the request\"\n",
    "def merge_cols(data):\n",
    "    data[\"prediction\"] = prompt+\"### Instruction:\\n\"+''.join(data[\"instruction\"]) + \"### Input:\\n\" + data[\"context\"] + \"### Response: \\n\"+ data[\"response\"]\n",
    "    return data\n",
    "\n",
    "data['train'] = data['train'].map(merge_cols)"
   ]
  },
  {
   "cell_type": "code",
   "execution_count": null,
   "id": "99729916",
   "metadata": {},
   "outputs": [],
   "source": [
    "data = data.map(lambda samples: tokenizer(samples['prediction']), batched=True)\n",
    "tokenizer.pad_token_id = 0"
   ]
  },
  {
   "cell_type": "code",
   "execution_count": null,
   "id": "6f5e1192",
   "metadata": {},
   "outputs": [],
   "source": [
    "len(data[\"train\"][\"attention_mask\"][768])#518"
   ]
  },
  {
   "cell_type": "code",
   "execution_count": null,
   "id": "4e1d604f",
   "metadata": {},
   "outputs": [],
   "source": [
    "tokenizer.pad_token_id = 0"
   ]
  },
  {
   "cell_type": "code",
   "execution_count": null,
   "id": "5aedd052",
   "metadata": {},
   "outputs": [],
   "source": [
    "trainer = transformers.Trainer(\n",
    "    model=model, \n",
    "    train_dataset=data['train'],\n",
    "    args=transformers.TrainingArguments(\n",
    "        per_device_train_batch_size=6, \n",
    "        gradient_accumulation_steps=6,\n",
    "        warmup_steps=25,\n",
    "        max_steps=100, \n",
    "        learning_rate=2e-4, \n",
    "        fp16=True,\n",
    "        logging_steps=1, \n",
    "        output_dir='outputs'\n",
    "    ),\n",
    "    data_collator=transformers.DataCollatorForLanguageModeling(tokenizer, mlm=False)\n",
    ")\n"
   ]
  },
  {
   "cell_type": "code",
   "execution_count": null,
   "id": "05dd9c83",
   "metadata": {},
   "outputs": [],
   "source": [
    "torch.cuda.empty_cache()"
   ]
  },
  {
   "cell_type": "code",
   "execution_count": null,
   "id": "ce892d01",
   "metadata": {},
   "outputs": [],
   "source": [
    "model.config.use_cache = False  # silence the warnings. Please re-enable for inference!\n",
    "trainer.train()"
   ]
  },
  {
   "cell_type": "code",
   "execution_count": null,
   "id": "0b9e818f",
   "metadata": {},
   "outputs": [],
   "source": [
    "tr.save_pretrained(\"models/wikisql\")"
   ]
  },
  {
   "cell_type": "code",
   "execution_count": null,
   "id": "14c4370e",
   "metadata": {},
   "outputs": [],
   "source": [
    "!nvcc -arch=sm_70 -O3 -std=c++11 -c -o main.cu.o main.cu -DTORCH_USE_CUDA_DSA\n",
    "\n"
   ]
  },
  {
   "cell_type": "code",
   "execution_count": null,
   "id": "81934987",
   "metadata": {},
   "outputs": [],
   "source": []
  },
  {
   "cell_type": "code",
   "execution_count": null,
   "id": "fd619249",
   "metadata": {},
   "outputs": [],
   "source": []
  },
  {
   "cell_type": "markdown",
   "id": "b5d2068a",
   "metadata": {},
   "source": [
    "# inference"
   ]
  },
  {
   "cell_type": "code",
   "execution_count": null,
   "id": "86028d17",
   "metadata": {},
   "outputs": [],
   "source": []
  }
 ],
 "metadata": {
  "kernelspec": {
   "display_name": "Python 3 (ipykernel)",
   "language": "python",
   "name": "python3"
  },
  "language_info": {
   "codemirror_mode": {
    "name": "ipython",
    "version": 3
   },
   "file_extension": ".py",
   "mimetype": "text/x-python",
   "name": "python",
   "nbconvert_exporter": "python",
   "pygments_lexer": "ipython3",
   "version": "3.10.11"
  }
 },
 "nbformat": 4,
 "nbformat_minor": 5
}
